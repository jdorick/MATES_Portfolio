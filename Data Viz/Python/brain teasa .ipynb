{
 "cells": [
  {
   "cell_type": "code",
   "execution_count": 7,
   "metadata": {},
   "outputs": [],
   "source": [
    "directions = [\"L3\", \"R1\", \"L4\", \"L1\", \"L2\", \"R4\", \"L3\", \"L3\", \"R2\", \"R3\", \"L5\", \"R1\", \"R3\", \"L4\", \"L1\", \"L2\", \"R2\", \"R1\", \"L4\", \"L4\", \"R2\", \"L5\", \"R3\", \"R2\", \"R1\", \"L1\", \"L2\", \"R2\",\n",
    "        \"R2\", \"L1\", \"L1\", \"R2\", \"R1\", \"L3\", \"L5\", \"R4\", \"L3\", \"R3\", \"R3\", \"L5\", \"L190\", \"L4\", \"R4\", \"R51\", \"L4\", \"R5\", \"R5\", \"R2\", \"L1\", \"L3\", \"R1\", \"R4\", \"L3\", \"R1\", \"R3\",\n",
    "        \"L5\", \"L4\", \"R2\", \"R5\", \"R2\", \"L1\", \"L5\", \"L1\", \"L1\", \"R78\", \"L3\", \"R2\", \"L3\", \"R5\", \"L2\", \"R2\", \"R4\", \"L1\", \"L4\", \"R1\", \"R185\", \"R3\", \"L4\", \"L1\", \"L1\", \"L3\", \"R4\",\n",
    "        \"L4\", \"L1\", \"R5\", \"L5\", \"L1\", \"R5\", \"L1\", \"R2\", \"L5\", \"L2\", \"R4\", \"R3\", \"L2\", \"R3\", \"R1\", \"L3\", \"L5\", \"L4\", \"R3\", \"L2\", \"L4\", \"L5\", \"L4\", \"R1\", \"L1\", \"R5\", \"L2\", \"R4\",    \n",
    "        \"R2\", \"R3\", \"L1\", \"L1\", \"L4\", \"L3\", \"R4\", \"L3\", \"L5\", \"R2\", \"L5\", \"L1\", \"L1\", \"R2\", \"R3\", \"L5\", \"L3\", \"L2\", \"L1\", \"L4\", \"R4\", \"R4\", \"L2\", \"R3\", \"R1\", \"L2\", \"R1\", \"L2\",\n",
    "        \"L2\", \"R3\", \"R3\", \"L1\", \"R4\", \"L5\", \"L3\", \"R4\", \"R4\", \"R1\", \"L2\", \"L5\", \"L3\", \"R1\", \"R4\", \"L2\", \"R5\", \"R4\", \"R2\", \"L5\", \"L3\", \"R4\", \"R1\", \"L1\", \"R5\", \"L3\", \"R1\", \"R5\",\n",
    "        \"L2\", \"R1\", \"L5\", \"L2\", \"R2\", \"L2\", \"L3\", \"R3\", \"R3\", \"R1\"]"
   ]
  },
  {
   "cell_type": "code",
   "execution_count": 17,
   "metadata": {},
   "outputs": [
    {
     "name": "stdout",
     "output_type": "stream",
     "text": [
      "122 866\n"
     ]
    }
   ],
   "source": [
    "direction = 0 \n",
    "x = 0\n",
    "y = 0\n",
    "\n",
    "for steps in directions: \n",
    "    if steps[0] == 'L':\n",
    "        direction += 1\n",
    "    else: \n",
    "        direction -= 1\n",
    "\n",
    "    if direction == 1:\n",
    "        x += int(steps[1:])\n",
    "    else:\n",
    "        y += int(steps[1:])\n",
    "\n",
    "print(x,y)"
   ]
  },
  {
   "cell_type": "code",
   "execution_count": null,
   "metadata": {},
   "outputs": [],
   "source": []
  }
 ],
 "metadata": {
  "kernelspec": {
   "display_name": "Python 3",
   "language": "python",
   "name": "python3"
  },
  "language_info": {
   "codemirror_mode": {
    "name": "ipython",
    "version": 3
   },
   "file_extension": ".py",
   "mimetype": "text/x-python",
   "name": "python",
   "nbconvert_exporter": "python",
   "pygments_lexer": "ipython3",
   "version": "3.7.3"
  }
 },
 "nbformat": 4,
 "nbformat_minor": 2
}
